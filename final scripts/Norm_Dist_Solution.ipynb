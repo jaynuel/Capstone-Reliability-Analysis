{
 "cells": [
  {
   "cell_type": "markdown",
   "id": "2c284cbf",
   "metadata": {},
   "source": [
    "# Solving algorithm using sample from normal distribution"
   ]
  },
  {
   "cell_type": "code",
   "execution_count": 23,
   "id": "daa725ab",
   "metadata": {},
   "outputs": [],
   "source": [
    "# Importing required Libraries\n",
    "\n",
    "import sys\n",
    "#!{sys.executable} -m pip install <library>\n",
    "import pandas as pd\n",
    "import numpy as np\n",
    "from timeit import timeit\n",
    "import boto3\n",
    "import s3fs\n",
    "import datetime as dt\n",
    "import os\n",
    "import math\n",
    "\n",
    "# Setting up view for testing purposes \n",
    "pd.options.display.float_format = \"{:,.30f}\".format\n",
    "pd.set_option('display.max_rows', None)"
   ]
  },
  {
   "cell_type": "markdown",
   "id": "8b0fae06",
   "metadata": {},
   "source": [
    "# Importing Algorithm Inputs"
   ]
  },
  {
   "cell_type": "code",
   "execution_count": 2,
   "id": "94ca60f3",
   "metadata": {},
   "outputs": [
    {
     "name": "stdout",
     "output_type": "stream",
     "text": [
      "Wall time: 1.71 s\n"
     ]
    }
   ],
   "source": [
    "%%time\n",
    "# Importing Data\n",
    "B = pd.read_csv (r'https://raw.githubusercontent.com/jaynuel/Capstone-Reliability-Analysis/main/input-data/B.csv', encoding='utf-8', header=None)\n",
    "CSR = pd.read_csv (r'https://raw.githubusercontent.com/jaynuel/Capstone-Reliability-Analysis/main/input-data/CSR.csv', encoding='utf-8', header=None)\n",
    "R = pd.read_csv (r'https://raw.githubusercontent.com/jaynuel/Capstone-Reliability-Analysis/main/input-data/R.csv', encoding='utf-8', header=None)\n",
    "Total_PATHWAYS = pd.read_csv (r'https://raw.githubusercontent.com/jaynuel/Capstone-Reliability-Analysis/main/input-data/Total_PATHWAYS.csv', encoding='utf-8', header=None)\n",
    "pro1 = pd.read_csv (r'https://raw.githubusercontent.com/jaynuel/Capstone-Reliability-Analysis/main/input-data/pro1.csv', encoding='utf-8', header=None)\n",
    "pro2 = pd.read_csv (r'https://raw.githubusercontent.com/jaynuel/Capstone-Reliability-Analysis/main/input-data/pro2.csv', encoding='utf-8', header=None)\n",
    "pro3 = pd.read_csv (r'https://raw.githubusercontent.com/jaynuel/Capstone-Reliability-Analysis/main/input-data/pro3.csv', encoding='utf-8', header=None)"
   ]
  },
  {
   "cell_type": "markdown",
   "id": "1ea6c494",
   "metadata": {},
   "source": [
    "# Data from Normal Distribution from Block 1 output"
   ]
  },
  {
   "cell_type": "code",
   "execution_count": 33,
   "id": "74c0ff9a",
   "metadata": {},
   "outputs": [
    {
     "name": "stdout",
     "output_type": "stream",
     "text": [
      "Wall time: 116 ms\n"
     ]
    }
   ],
   "source": [
    "%%time\n",
    "norm_dist_data = pd.read_csv (r'https://raw.githubusercontent.com/jaynuel/Capstone-Reliability-Analysis/main/input-data/sample_data_norm_dist.csv', encoding='utf-8', header=None)"
   ]
  },
  {
   "cell_type": "markdown",
   "id": "e76a6ae7",
   "metadata": {},
   "source": [
    "# Total_PATHWAY = 1 Sucess"
   ]
  },
  {
   "cell_type": "code",
   "execution_count": 19,
   "id": "fad73bb3",
   "metadata": {},
   "outputs": [
    {
     "name": "stdout",
     "output_type": "stream",
     "text": [
      "Wall time: 14.8 s\n"
     ]
    }
   ],
   "source": [
    "%%time\n",
    "\n",
    "# Setting up dataframe to contain final output\n",
    "bnueva1_A = pd.DataFrame()\n",
    "\n",
    "# Component: 13\n",
    "for i3 in range(len(norm_dist_data)): # <--- REPLACE HERE\n",
    "    if Total_PATHWAYS.loc[i3, 0] == 1:\n",
    "        if CSR.loc[i3, 12] == 1:\n",
    "            for row in range(pro2.shape[0]):\n",
    "                a = (norm_dist_data.loc[row,0] * pro2.loc[:, 0] / R.loc[0, 12]) # <-- REPLACE HERE \n",
    "                bnueva1_A = bnueva1_A.append(pd.DataFrame(a), ignore_index=True) \n",
    "\n",
    "        elif CSR.loc[i3, 12] == 0:\n",
    "            for row in range(pro2.shape[0]):\n",
    "                a = (norm_dist_data.loc[row, 0] * pro2.loc[:, 0] / (1 - R.loc[0, 12]))# <-- REPLACE HERE\n",
    "                bnueva1_A = bnueva1_A.append(pd.DataFrame(a), ignore_index=True)"
   ]
  },
  {
   "cell_type": "markdown",
   "id": "bc37d459",
   "metadata": {},
   "source": [
    "# Feeding block 3 with output from Block 2"
   ]
  },
  {
   "cell_type": "code",
   "execution_count": 28,
   "id": "73eb3538",
   "metadata": {},
   "outputs": [
    {
     "name": "stdout",
     "output_type": "stream",
     "text": [
      "Wall time: 14min 46s\n"
     ]
    }
   ],
   "source": [
    "\n",
    "%%time\n",
    "a1 = 0\n",
    "\n",
    "\n",
    "# Component: 13\n",
    "for i3 in range(len(bnueva1_A)):\n",
    "    if Total_PATHWAYS.loc[int(i3/210), 0] == 1:\n",
    "        if CSR.loc[int(i3/210), 13] == 1:\n",
    "            for row in range(pro3.shape[0]):\n",
    "                a = (bnueva1_A.loc[row, 0] * pro3.loc[:, 0]).to_numpy()    \n",
    "                a1 = a.sum()\n",
    "                a1 = a1 + a\n",
    "                tot_1 = math.fsum(a1)\n"
   ]
  },
  {
   "cell_type": "code",
   "execution_count": 31,
   "id": "a76d8d22",
   "metadata": {},
   "outputs": [
    {
     "name": "stdout",
     "output_type": "stream",
     "text": [
      "5.4014504174496e-23\n"
     ]
    }
   ],
   "source": [
    " RT = tot_1/ R.loc[0, 13]\n",
    "    \n",
    "print(RT)"
   ]
  },
  {
   "cell_type": "code",
   "execution_count": null,
   "id": "ec96cd49",
   "metadata": {},
   "outputs": [],
   "source": []
  }
 ],
 "metadata": {
  "kernelspec": {
   "display_name": "Python 3",
   "language": "python",
   "name": "python3"
  },
  "language_info": {
   "codemirror_mode": {
    "name": "ipython",
    "version": 3
   },
   "file_extension": ".py",
   "mimetype": "text/x-python",
   "name": "python",
   "nbconvert_exporter": "python",
   "pygments_lexer": "ipython3",
   "version": "3.8.3"
  }
 },
 "nbformat": 4,
 "nbformat_minor": 5
}
