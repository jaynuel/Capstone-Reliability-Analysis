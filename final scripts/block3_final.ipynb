{
 "cells": [
  {
   "cell_type": "markdown",
   "id": "f9799f82",
   "metadata": {},
   "source": [
    "# Initializing and Setting Up Block 3"
   ]
  },
  {
   "cell_type": "code",
   "execution_count": null,
   "id": "f1d239c3",
   "metadata": {},
   "outputs": [],
   "source": [
    "# Importing required Libraries\n",
    "\n",
    "import sys\n",
    "#!{sys.executable} -m pip install <library>\n",
    "import pandas as pd\n",
    "import numpy as np\n",
    "from timeit import timeit\n",
    "import boto3\n",
    "import s3fs\n",
    "import datetime as dt\n",
    "import os\n",
    "\n",
    "# Setting up view for testing purposes \n",
    "pd.options.display.float_format = \"{:,.30f}\".format\n",
    "pd.set_option('display.max_rows', None)"
   ]
  },
  {
   "cell_type": "markdown",
   "id": "356a48f3",
   "metadata": {},
   "source": [
    "## Importing Algorithm Inputs"
   ]
  },
  {
   "cell_type": "code",
   "execution_count": null,
   "id": "e4fbd195",
   "metadata": {},
   "outputs": [],
   "source": [
    "%%time\n",
    "# Importing Data\n",
    "B = pd.read_csv (r'https://raw.githubusercontent.com/jaynuel/Capstone-Reliability-Analysis/main/input-data/B.csv', encoding='utf-8', header=None)\n",
    "CSR = pd.read_csv (r'https://raw.githubusercontent.com/jaynuel/Capstone-Reliability-Analysis/main/input-data/CSR.csv', encoding='utf-8', header=None)\n",
    "R = pd.read_csv (r'https://raw.githubusercontent.com/jaynuel/Capstone-Reliability-Analysis/main/input-data/R.csv', encoding='utf-8', header=None)\n",
    "Total_PATHWAYS = pd.read_csv (r'https://raw.githubusercontent.com/jaynuel/Capstone-Reliability-Analysis/main/input-data/Total_PATHWAYS.csv', encoding='utf-8', header=None)\n",
    "pro1 = pd.read_csv (r'https://raw.githubusercontent.com/jaynuel/Capstone-Reliability-Analysis/main/input-data/pro1.csv', encoding='utf-8', header=None)\n",
    "pro2 = pd.read_csv (r'https://raw.githubusercontent.com/jaynuel/Capstone-Reliability-Analysis/main/input-data/pro2.csv', encoding='utf-8', header=None)\n",
    "pro3 = pd.read_csv (r'https://raw.githubusercontent.com/jaynuel/Capstone-Reliability-Analysis/main/input-data/pro3.csv', encoding='utf-8', header=None)\n"
   ]
  },
  {
   "cell_type": "markdown",
   "id": "c3e9740b",
   "metadata": {},
   "source": [
    "## Algorithm inputs from Block 2 Imported from S3 Bucket\n",
    "\n",
    "**Each output block was imported and processed individually. The process below showcase the steps for one block.**"
   ]
  },
  {
   "cell_type": "code",
   "execution_count": null,
   "id": "d020509f",
   "metadata": {},
   "outputs": [],
   "source": [
    "# Setting up blocks for consumption\n",
    "%%time\n",
    "bnueva = pd.read_csv('s3://capstone-data-reliability/''FILE NAME', header=None)\n",
    "bnueva = bnueva.iloc[: , 1:].reset_index(drop=True)\n",
    "\n",
    "bnueva1 = bnueva.iloc[0:5424301,:].copy().reset_index(drop=True)\n",
    "bnueva2 = bnueva.iloc[5424301:10848602,:].copy().reset_index(drop=True) \n"
   ]
  },
  {
   "cell_type": "markdown",
   "id": "06ac00a3",
   "metadata": {},
   "source": [
    "## Feeding Algorith with Each Splitted Dataframe and calculating final output per block"
   ]
  },
  {
   "cell_type": "markdown",
   "id": "b8091067",
   "metadata": {},
   "source": [
    "# Total_Pathway = 1 Success\n",
    "\n",
    "**Each individual splitted dataframe is passed through the code below**"
   ]
  },
  {
   "cell_type": "code",
   "execution_count": null,
   "id": "f5b944b8",
   "metadata": {},
   "outputs": [],
   "source": [
    "# Block 3 A\n",
    "\n",
    "%%time\n",
    "a1 = 0\n",
    "bnueva1_A = pd.DataFrame()\n",
    "\n",
    "# Component: 13\n",
    "for i3 in range(len(bnueva1)):\n",
    "    if Total_PATHWAYS.loc[int(i3/(56*210)), 0] == 1:\n",
    "        for row in range(pro3.shape[0]):\n",
    "            a = (bnueva1.loc[row, 1] * pro3.loc[:, 0]).to_numpy()    #/ R.loc[0, 13]).to_numpy()\n",
    "            a1 = a.sum()\n",
    "            a1 = a1 + a\n",
    "            tot_1 = math.fsum(a1)"
   ]
  },
  {
   "cell_type": "markdown",
   "id": "85461f6f",
   "metadata": {},
   "source": [
    "### Processing Logs:\n",
    "Wall time: 23min 58s\n"
   ]
  },
  {
   "cell_type": "code",
   "execution_count": null,
   "id": "6fde6799",
   "metadata": {},
   "outputs": [],
   "source": [
    "# Block 3 B\n",
    "\n",
    "%%time\n",
    "a1 = 0\n",
    "bnueva1_A = pd.DataFrame()\n",
    "\n",
    "# Component: 13\n",
    "for i3 in range(len(bnueva2)):\n",
    "    if Total_PATHWAYS.loc[int(i3/(56*210)), 0] == 1:\n",
    "        for row in range(pro3.shape[0]):\n",
    "            a = (bnueva2.loc[row, 1] * pro3.loc[:, 0]).to_numpy() #/ R.loc[0, 13]).to_numpy()\n",
    "            a1 = a.sum()\n",
    "            a1 = a1 + a\n",
    "            tot_2 = math.fsum(a1)"
   ]
  },
  {
   "cell_type": "markdown",
   "id": "b882fcba",
   "metadata": {},
   "source": [
    "### Processing Logs:\n",
    "Wall time: 23min 58s"
   ]
  },
  {
   "cell_type": "code",
   "execution_count": null,
   "id": "90c0fb46",
   "metadata": {},
   "outputs": [],
   "source": [
    "# Calculating final output per block\n",
    "tot = tot_1 + tot_2 / R.loc[0, 13]"
   ]
  },
  {
   "cell_type": "code",
   "execution_count": null,
   "id": "2c1cfaa8",
   "metadata": {},
   "outputs": [],
   "source": []
  }
 ],
 "metadata": {
  "kernelspec": {
   "display_name": "Python 3",
   "language": "python",
   "name": "python3"
  },
  "language_info": {
   "codemirror_mode": {
    "name": "ipython",
    "version": 3
   },
   "file_extension": ".py",
   "mimetype": "text/x-python",
   "name": "python",
   "nbconvert_exporter": "python",
   "pygments_lexer": "ipython3",
   "version": "3.8.3"
  }
 },
 "nbformat": 4,
 "nbformat_minor": 5
}
