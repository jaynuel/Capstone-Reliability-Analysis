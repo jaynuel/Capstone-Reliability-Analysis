{
 "cells": [
  {
   "cell_type": "markdown",
   "id": "feb0807d",
   "metadata": {},
   "source": [
    "# Initializing and Setting Up Block 1"
   ]
  },
  {
   "cell_type": "code",
   "execution_count": null,
   "id": "7ff113e8",
   "metadata": {},
   "outputs": [],
   "source": [
    "# Importing required Libraries\n",
    "\n",
    "import sys\n",
    "#!{sys.executable} -m pip install <library>\n",
    "import pandas as pd\n",
    "import numpy as np\n",
    "from timeit import timeit\n",
    "import boto3\n",
    "import s3fs\n",
    "import datetime as dt\n",
    "import os\n",
    "\n",
    "# Setting up view for testing purposes \n",
    "pd.options.display.float_format = \"{:,.30f}\".format\n",
    "pd.set_option('display.max_rows', None)"
   ]
  },
  {
   "cell_type": "markdown",
   "id": "e53934ac",
   "metadata": {},
   "source": [
    "## Algorithm inputs from MATLAB code were stored in Github and loaded into the environment "
   ]
  },
  {
   "cell_type": "code",
   "execution_count": null,
   "id": "78fdb10b",
   "metadata": {},
   "outputs": [],
   "source": [
    "# Loading algorith inputs\n",
    "B = pd.read_csv (r'https://raw.githubusercontent.com/jaynuel/Capstone-Reliability-Analysis/main/input-data/B.csv', encoding='utf-8', header=None)\n",
    "CSR = pd.read_csv (r'https://raw.githubusercontent.com/jaynuel/Capstone-Reliability-Analysis/main/input-data/CSR.csv', encoding='utf-8', header=None)\n",
    "R = pd.read_csv (r'https://raw.githubusercontent.com/jaynuel/Capstone-Reliability-Analysis/main/input-data/R.csv', encoding='utf-8', header=None)\n",
    "Total_PATHWAYS = pd.read_csv (r'https://raw.githubusercontent.com/jaynuel/Capstone-Reliability-Analysis/main/input-data/Total_PATHWAYS.csv', encoding='utf-8', header=None)\n",
    "pro1 = pd.read_csv (r'https://raw.githubusercontent.com/jaynuel/Capstone-Reliability-Analysis/main/input-data/pro1.csv', encoding='utf-8', header=None)\n",
    "pro2 = pd.read_csv (r'https://raw.githubusercontent.com/jaynuel/Capstone-Reliability-Analysis/main/input-data/pro2.csv', encoding='utf-8', header=None)\n",
    "pro3 = pd.read_csv (r'https://raw.githubusercontent.com/jaynuel/Capstone-Reliability-Analysis/main/input-data/pro3.csv', encoding='utf-8', header=None)\n"
   ]
  },
  {
   "cell_type": "markdown",
   "id": "3054010a",
   "metadata": {},
   "source": [
    "# Total_Pathway = 1 Success"
   ]
  },
  {
   "cell_type": "code",
   "execution_count": null,
   "id": "5c5a2a3a",
   "metadata": {},
   "outputs": [],
   "source": [
    "# Optimized Block 1\n",
    "%%time\n",
    "# Component: 5\n",
    "for i3 in range(len(CSR)):\n",
    "    if Total_PATHWAYS.loc[i3, 0] == 1:\n",
    "        if CSR.loc[i3, 4] == 1:\n",
    "            for row in range(pro1.shape[0]):\n",
    "                a = (B.loc[row, 0] * pro1.loc[:, 0] / R.loc[0, 4])\n",
    "                bnueva = bnueva.append(pd.DataFrame(a), ignore_index=True).replace(0, np.nan).dropna(how='all', axis=0) #.reset_index(drop=True)\n",
    "                #bnueva = bnueva.reset_index(drop=True)\n",
    "        elif CSR.loc[i3, 4] == 0:\n",
    "            for row in range(pro1.shape[0]):\n",
    "                a = (B.loc[row, 0] * pro1.loc[:, 0] / (1 - R.loc[0, 4]))\n",
    "                bnueva = bnueva.append(pd.DataFrame(a), ignore_index=True).replace(0, np.nan).dropna(how='all', axis=0) #.reset_index(drop=True)\n",
    "                #bnueva = bnueva.reset_index(drop=True)"
   ]
  },
  {
   "cell_type": "markdown",
   "id": "2180abd8",
   "metadata": {},
   "source": [
    "### Processing Logs:\n",
    "CPU times: user 2h 41min 43s, sys: 19min 46s, total: 3h 1min 30s\n",
    "Wall time: 3h 1min 30s\n"
   ]
  },
  {
   "cell_type": "markdown",
   "id": "1b21c9b6",
   "metadata": {},
   "source": [
    "## Saving Block 1 Output to AWS S3 Bucket"
   ]
  },
  {
   "cell_type": "code",
   "execution_count": null,
   "id": "d3a4dbfd",
   "metadata": {},
   "outputs": [],
   "source": [
    "%%time\n",
    "\n",
    "# creating a variable that stores date to be append on the file to be archive\n",
    "today = dt.datetime.today()\n",
    "date = today.strftime(\"%Y%m%d\")\n",
    "\n",
    "#connect and load the historical data file to s3\n",
    "\n",
    "s3pathName = 's3://capstone-data-reliability/'\n",
    "FileNameFullPath = 'i3_4' \n",
    "filenames3 = \"%s%s%s.csv\"%(s3pathName,FileNameFullPath,date) #name of the filepath and csv file\n",
    "\n",
    "#bnueva.to_csv(filenames3, header=True, line_terminator='\\n') \n",
    "\n",
    "#print success message\n",
    "print(\"Successfull uploaded file to location:\"+str(filenames3))"
   ]
  },
  {
   "cell_type": "code",
   "execution_count": null,
   "id": "2b175cdd",
   "metadata": {},
   "outputs": [],
   "source": []
  }
 ],
 "metadata": {
  "kernelspec": {
   "display_name": "Python 3",
   "language": "python",
   "name": "python3"
  },
  "language_info": {
   "codemirror_mode": {
    "name": "ipython",
    "version": 3
   },
   "file_extension": ".py",
   "mimetype": "text/x-python",
   "name": "python",
   "nbconvert_exporter": "python",
   "pygments_lexer": "ipython3",
   "version": "3.8.3"
  }
 },
 "nbformat": 4,
 "nbformat_minor": 5
}
